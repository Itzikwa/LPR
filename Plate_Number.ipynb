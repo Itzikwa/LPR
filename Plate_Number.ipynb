{
 "cells": [
  {
   "cell_type": "code",
   "execution_count": 10,
   "id": "reserved-beverage",
   "metadata": {},
   "outputs": [],
   "source": [
    "import cv2\n",
    "import numpy as np\n",
    "import matplotlib.pyplot as plt\n",
    "import collections\n",
    "from skimage.metrics import structural_similarity as ssim"
   ]
  },
  {
   "cell_type": "code",
   "execution_count": 11,
   "id": "extreme-smile",
   "metadata": {},
   "outputs": [],
   "source": [
    "def createTemplates():\n",
    "    \"\"\"\n",
    "    הפונקציה יוצרת תבניות שישמשו לשם השוואה בינן ובין תמנות הספרות שנחלץ מתמונת הלוחית\n",
    "    \"\"\"\n",
    "    one = cv2.imread('1.bmp',0)\n",
    "    two = cv2.imread('2.bmp',0)\n",
    "    three = cv2.imread('3.bmp',0)\n",
    "    four = cv2.imread('4.bmp',0)\n",
    "    five = cv2.imread('5.bmp',0)\n",
    "    six = cv2.imread('6.bmp',0)\n",
    "    seven = cv2.imread('7.bmp',0)\n",
    "    eight = cv2.imread('8.bmp',0)\n",
    "    nine = cv2.imread('9.bmp',0)\n",
    "    zero = cv2.imread('0.bmp',0)\n",
    "    #יצירת מערך שמכיל את כל תמונות הספרות\n",
    "    templates = [zero, one, two, three, four, five, six, seven, eight, nine]\n",
    "    return templates"
   ]
  },
  {
   "cell_type": "code",
   "execution_count": 12,
   "id": "marine-contamination",
   "metadata": {},
   "outputs": [],
   "source": [
    "def checksim(img, templates):\n",
    "    \"\"\"\n",
    "    הפונקציה בודקת עבור כל ספרה שחולצה מהלוחית לאיזו תבנית מבין תמונות הספרות הנתונות היא הכי דומה\n",
    "    \"\"\"\n",
    "    width = img.shape[1]\n",
    "    height = img.shape[0]\n",
    "    dim = (width, height)\n",
    "    sim = 0\n",
    "    digit = -1\n",
    "    i = 0\n",
    "    for tmp in templates:\n",
    "        #שינוי מימדי התבנית כך שיתאימו לממדי התמונה שחולצה מהלוחית\n",
    "        resized = cv2.resize(tmp, dim, interpolation = cv2.INTER_AREA)\n",
    "        #שימוש בפוקנציה שבודקת את מידת ההתאמה בין שתי תמונות\n",
    "        err = ssim(img, resized)\n",
    "        if err > sim:\n",
    "                   sim = err\n",
    "                   digit = i\n",
    "        i = i + 1\n",
    "    return digit"
   ]
  },
  {
   "cell_type": "code",
   "execution_count": 14,
   "id": "legal-baking",
   "metadata": {},
   "outputs": [
    {
     "name": "stdout",
     "output_type": "stream",
     "text": [
      "1234590\n"
     ]
    },
    {
     "data": {
      "image/png": "[encoded data removed]",
      "text/plain": [
       "<Figure size 432x288 with 1 Axes>"
      ]
     },
     "metadata": {
      "needs_background": "light"
     },
     "output_type": "display_data"
    }
   ],
   "source": [
    "im = cv2.imread('LP_STANDARD.jpg',0)\n",
    "\n",
    "plt.imshow(im)\n",
    "#חיתוך בסף והפיכת התמונה לבינארית\n",
    "thresh = cv2.threshold(im,127,255,cv2.THRESH_BINARY)[1]\n",
    "\n",
    "#מציאת העצמים הקיימים בתמונה\n",
    "contours = cv2.findContours(thresh,cv2.RETR_TREE,cv2.CHAIN_APPROX_SIMPLE)[0]\n",
    "\n",
    "arr = []\n",
    "\n",
    "xcnt = []\n",
    "\n",
    "plate = ''\n",
    "\n",
    "#קריאה לפונקציה שיוצרת את תבניות הספרות\n",
    "templates = createTemplates()\n",
    "\n",
    "img_size = thresh.shape[0] * thresh.shape[1]\n",
    "\n",
    "#הפיכת השחור והלבן בתמונה כך שהספרות יתאימו לצבע הספרות בתבנית\n",
    "thresh2 = cv2.subtract(255, thresh)\n",
    "\n",
    "for cnt in contours:\n",
    "    x,y,w,h = cv2.boundingRect(cnt)\n",
    "    if w < h/1.5 and w*h * 50 > img_size:\n",
    "        #גזירת תמונת הספרה על ידי שימוש בערכי הגובה הרוחב והקורדינטות\n",
    "        crop_img = thresh2[y:y+h, x:x+w]\n",
    "        digit = checksim(crop_img, templates)\n",
    "        arr.append(digit)\n",
    "        #שמירת הקורדינטות של תמונות הספרות לשם מיון הספרות בהמשך\n",
    "        xcnt.append(x)\n",
    "\n",
    "#יצירת מילון כך שהמפתחות הם מחרוזת הקורדינטות על הציר האנכי והערכים הם ערכי ספרות הלוחית\n",
    "dic = {} \n",
    "for key in xcnt: \n",
    "    for value in arr: \n",
    "        dic[key] = value \n",
    "        arr.remove(value) \n",
    "        break  \n",
    "#מיון ערכי המילון לפי ערכי המפתח כך שההנחה היא שככל שערך הקורדינטה האנכית נמוך יותר, מסתבר שהספרה שנמצאת בקורדינטה היא הקודמת בסדר כיוון שהיא ימנית יותר\n",
    "sort_dict = collections.OrderedDict(sorted(dic.items()))\n",
    "\n",
    "\n",
    "#המרת ערכי המילון למחרוזת\n",
    "for k, v in sort_dict.items():\n",
    "    plate = plate + str(v)\n",
    "\n",
    "#הדפסת מספר לוחית הרישוי    \n",
    "print(plate)"
   ]
  }
 ],
 "metadata": {
  "kernelspec": {
   "display_name": "Python 3",
   "language": "python",
   "name": "python3"
  },
  "language_info": {
   "codemirror_mode": {
    "name": "ipython",
    "version": 3
   },
   "file_extension": ".py",
   "mimetype": "text/x-python",
   "name": "python",
   "nbconvert_exporter": "python",
   "pygments_lexer": "ipython3",
   "version": "3.8.7"
  }
 },
 "nbformat": 4,
 "nbformat_minor": 5
}
