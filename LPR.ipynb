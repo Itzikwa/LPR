{
 "cells": [
  {
   "cell_type": "code",
   "execution_count": 32,
   "id": "delayed-google",
   "metadata": {},
   "outputs": [],
   "source": [
    "import cv2\n",
    "import numpy as np\n",
    "import matplotlib.pyplot as plt\n",
    "import pytesseract"
   ]
  },
  {
   "cell_type": "code",
   "execution_count": 33,
   "id": "hollow-roller",
   "metadata": {},
   "outputs": [],
   "source": [
    "def warp(rect, img):    \n",
    "    box = cv2.boxPoints(rect)\n",
    "    box = np.int0(box)\n",
    "    width = int(rect[1][0])\n",
    "    height = int(rect[1][1])\n",
    "    \n",
    "    #הקורדינטות של האובייקט המבוקש בתוך התמונה המקורית\n",
    "    src_pts = box.astype(\"float32\")\n",
    "    #הקורדינטות שיהיו בתמונת היעד - גודל התמונה הוא כגודל הלוחית שנבחרה\n",
    "    dst_pts = np.array([[0, height-1],\n",
    "                        [0, 0],\n",
    "                        [width-1, 0],\n",
    "                        [width-1, height-1]], dtype=\"float32\")\n",
    "\n",
    "    #פונקציה שמקבלת כקלט את הקורדינטות בתמונת המקור ואת הקורדינטות בתמונת היעד ומייצרת מטריצת טרנספורמציה שתהפוך את תמונת המקור לתמונת היעד\n",
    "    M = cv2.getPerspectiveTransform(src_pts, dst_pts)\n",
    "\n",
    "    #פונקציה שמפעילה את מטרצת הטרנספורמציה על תמונת המקור ונותנת כפל את תמונת היעד\n",
    "    warped = cv2.warpPerspective(img, M, (width, height))\n",
    "    return warped"
   ]
  },
  {
   "cell_type": "code",
   "execution_count": 34,
   "id": "compliant-capability",
   "metadata": {},
   "outputs": [],
   "source": [
    "def pyTes(plate):\n",
    "    gray = cv2.cvtColor(plate, cv2.COLOR_BGR2GRAY)\n",
    "    thresh = cv2.threshold(gray, 0, 255, cv2.THRESH_OTSU)[1]\n",
    "    custom_config = r'--oem 1 --psm 6 -c tessedit_char_whitelist=0123456789'\n",
    "    return pytesseract.image_to_string(thresh, config=custom_config)"
   ]
  },
  {
   "cell_type": "code",
   "execution_count": 36,
   "id": "central-desktop",
   "metadata": {},
   "outputs": [
    {
     "name": "stdout",
     "output_type": "stream",
     "text": [
      "8125961\n",
      "\f",
      "\n"
     ]
    },
    {
     "data": {
      "image/png": "[encoded data removed]",
      "text/plain": [
       "<Figure size 432x288 with 1 Axes>"
      ]
     },
     "metadata": {
      "needs_background": "light"
     },
     "output_type": "display_data"
    }
   ],
   "source": [
    "image = cv2.imread('IMG_6.jpg')\n",
    "original = image.copy()\n",
    "\n",
    "#המרת התמונה מתמונה מRGB לHSV\n",
    "image = cv2.cvtColor(image, cv2.COLOR_BGR2HSV)\n",
    "\n",
    "#השמת ערכי HSV המתאימים לצבע צהוב\n",
    "lower = np.array([16, 120, 0], dtype=\"uint8\")\n",
    "upper = np.array([24, 255, 255], dtype=\"uint8\")\n",
    "\n",
    "#הפיכת התמונה לתמונה בינארית כך שערכי הצהוב ייצבעו בלבן והשאר בשחור על פי שימוש בערכי HSV הנ\"ל\n",
    "mask = cv2.inRange(image, lower, upper)\n",
    "\n",
    "#מציאת העצמים הקיימים בתמונה\n",
    "cnts = cv2.findContours(mask, cv2.RETR_TREE, cv2.CHAIN_APPROX_SIMPLE)[0]\n",
    "\n",
    "plates = []\n",
    "plate_num = []\n",
    "\n",
    "#השמת גודל התמונה שישמש לבחינת היחס בין גודל הלוחית ובין גודל התמונה עצמה\n",
    "img_size = image.shape[0] * image.shape[1]\n",
    "\n",
    "for c in cnts:\n",
    "    #פונקציה המוצאת את המלבן המינימאלי מסביב לעצם מסוים בתמונה, הפונקציה מחזירה מבנה שיש בו קורדינטת מרכז גובה ורוחב של המלבן וזווית ההטיה\n",
    "    rect = cv2.minAreaRect(c)\n",
    "    #פונקציה שמקבלת את נתוני צורת המלבן ומחזירה קורדינטות של ארבע נקודות המלבן\n",
    "    box = cv2.boxPoints(rect) \n",
    "    box = np.int0(box)\n",
    "    #בדיקת היחס בין הקורדינטות של המלבן - מפורט במסמך המצורף\n",
    "    if box[1][0] < box[3][0]: \n",
    "        w = int(rect[1][0])\n",
    "        h = int(rect[1][1])\n",
    "    else:\n",
    "        h = int(rect[1][0])\n",
    "        w = int(rect[1][1])\n",
    "    #סינון האובייקטים בתמונה לפי גודל האובייקט ולפי היחס בין הגובה לאורך\n",
    "    if w > h * 3 and w < h *5.5 and h*w  > img_size / 1000 and h*w < img_size / 10:\n",
    "        #פונקציה שמיישרת את הלוחית המוטית\n",
    "        warped = warp(rect, original)\n",
    "        #במקרה שהיישור יישר את הלוחית בצורה אנכית, נהפוך את הלוחית כך שתהיה אופקית\n",
    "        if (warped.shape[0] > warped.shape[1]):\n",
    "            warped = cv2.rotate(warped, cv2.cv2.ROTATE_90_CLOCKWISE)\n",
    "        plates.append(warped)\n",
    "\n",
    "#הצגת הלוחיות שנמצאות בתמונה\n",
    "for plate in plates:\n",
    "    plt.imshow(plate)\n",
    "    print(pyTes(plate))"
   ]
  },
  {
   "cell_type": "code",
   "execution_count": null,
   "id": "excited-cartoon",
   "metadata": {},
   "outputs": [],
   "source": []
  }
 ],
 "metadata": {
  "kernelspec": {
   "display_name": "Python 3",
   "language": "python",
   "name": "python3"
  },
  "language_info": {
   "codemirror_mode": {
    "name": "ipython",
    "version": 3
   },
   "file_extension": ".py",
   "mimetype": "text/x-python",
   "name": "python",
   "nbconvert_exporter": "python",
   "pygments_lexer": "ipython3",
   "version": "3.8.7"
  }
 },
 "nbformat": 4,
 "nbformat_minor": 5
}
